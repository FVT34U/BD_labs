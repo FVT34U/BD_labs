{
 "cells": [
  {
   "cell_type": "code",
   "execution_count": 75,
   "id": "b19e8678-ed54-4382-85f8-ec00117c4a90",
   "metadata": {},
   "outputs": [],
   "source": [
    "from pyspark import SparkContext, SparkConf \n",
    "from pyspark.sql import SparkSession\n",
    "import pyspark.sql as sql\n",
    "from pyspark.sql.functions import col\n",
    "import os\n",
    "\n",
    "from pyspark.sql.functions import udf\n",
    "from pyspark.sql.types import StringType\n",
    "\n",
    "from pyspark.sql import Window\n",
    "from pyspark.sql.functions import row_number\n",
    "\n",
    "os.environ['PYSPARK_SUBMIT_ARGS'] = '--packages com.databricks:spark-xml_2.12:0.14.0 pyspark-shell'"
   ]
  },
  {
   "cell_type": "code",
   "execution_count": 2,
   "id": "df6e2d6f-59f1-4c3c-964c-d6dee2d572d8",
   "metadata": {},
   "outputs": [],
   "source": [
    "conf = SparkConf().setAppName(\"language_analysis\").setMaster('yarn')"
   ]
  },
  {
   "cell_type": "code",
   "execution_count": 3,
   "id": "bbd5ca8e-a414-40e7-b451-b9f44c7dee81",
   "metadata": {},
   "outputs": [],
   "source": [
    "sc = SparkContext(conf=conf)\n",
    "spark = SparkSession(sc)"
   ]
  },
  {
   "cell_type": "code",
   "execution_count": 4,
   "id": "4048c4ff-bd57-4973-89c6-dbe3a3a72b0c",
   "metadata": {},
   "outputs": [],
   "source": [
    "posts_sample = spark.read.format('xml')\\\n",
    ".option('rootTag', 'posts')\\\n",
    ".option('rowTag', 'row')\\\n",
    ".load(\"posts_sample.xml\")"
   ]
  },
  {
   "cell_type": "code",
   "execution_count": 6,
   "id": "dd11aa20-6034-4f57-999e-bec5568597b1",
   "metadata": {},
   "outputs": [],
   "source": [
    "wiki_languages = spark.read\\\n",
    ".option(\"header\", True)\\\n",
    ".option(\"inferSchema\", True)\\\n",
    ".csv(\"programming-languages.csv\")"
   ]
  },
  {
   "cell_type": "code",
   "execution_count": 7,
   "id": "cdf4c03c-bc13-4036-920d-d8ac0801cb2e",
   "metadata": {},
   "outputs": [
    {
     "name": "stdout",
     "output_type": "stream",
     "text": [
      "root\n",
      " |-- _AcceptedAnswerId: long (nullable = true)\n",
      " |-- _AnswerCount: long (nullable = true)\n",
      " |-- _Body: string (nullable = true)\n",
      " |-- _ClosedDate: timestamp (nullable = true)\n",
      " |-- _CommentCount: long (nullable = true)\n",
      " |-- _CommunityOwnedDate: timestamp (nullable = true)\n",
      " |-- _CreationDate: timestamp (nullable = true)\n",
      " |-- _FavoriteCount: long (nullable = true)\n",
      " |-- _Id: long (nullable = true)\n",
      " |-- _LastActivityDate: timestamp (nullable = true)\n",
      " |-- _LastEditDate: timestamp (nullable = true)\n",
      " |-- _LastEditorDisplayName: string (nullable = true)\n",
      " |-- _LastEditorUserId: long (nullable = true)\n",
      " |-- _OwnerDisplayName: string (nullable = true)\n",
      " |-- _OwnerUserId: long (nullable = true)\n",
      " |-- _ParentId: long (nullable = true)\n",
      " |-- _PostTypeId: long (nullable = true)\n",
      " |-- _Score: long (nullable = true)\n",
      " |-- _Tags: string (nullable = true)\n",
      " |-- _Title: string (nullable = true)\n",
      " |-- _ViewCount: long (nullable = true)\n",
      "\n",
      "root\n",
      " |-- name: string (nullable = true)\n",
      " |-- wikipedia_url: string (nullable = true)\n",
      "\n"
     ]
    }
   ],
   "source": [
    "posts_sample.printSchema()\n",
    "wiki_languages.printSchema()"
   ]
  },
  {
   "cell_type": "code",
   "execution_count": 17,
   "id": "6bbf3a0d-8a15-4e38-993e-3d46af5dec15",
   "metadata": {},
   "outputs": [],
   "source": [
    "lang_list = wiki_languages.select(\"name\")\\\n",
    ".rdd\\\n",
    ".map(lambda x: x[0].lower())\\\n",
    ".collect()"
   ]
  },
  {
   "cell_type": "code",
   "execution_count": 72,
   "id": "40fdb855-3557-47fe-8a38-790c3fbe94ff",
   "metadata": {},
   "outputs": [],
   "source": [
    "def get_year(date):\n",
    "    return str(date.year) if date.year >= 2010 and date.year < 2020 else \"invalid\"\n",
    "\n",
    "def get_lang(tags):\n",
    "    temp = tags.split(\">\")[0]\n",
    "    temp = temp[1:]\n",
    "    if temp not in lang_list:\n",
    "        return \"invalid\"\n",
    "    return temp\n",
    "\n",
    "get_year_udf = udf(get_year, StringType())\n",
    "get_lang_udf = udf(get_lang, StringType())"
   ]
  },
  {
   "cell_type": "code",
   "execution_count": 84,
   "id": "3a0ee502-db79-4733-a11f-5388597b79c8",
   "metadata": {},
   "outputs": [
    {
     "name": "stdout",
     "output_type": "stream",
     "text": [
      "+----+-----------+-------+\n",
      "|year|   language|  views|\n",
      "+----+-----------+-------+\n",
      "|2010|        php|1189629|\n",
      "|2010|       java| 562997|\n",
      "|2010| javascript| 304994|\n",
      "|2010|objective-c|  63442|\n",
      "|2010|          c|  63041|\n",
      "|2010|     python|  57979|\n",
      "|2010|       ruby|  17145|\n",
      "|2010|     delphi|  12769|\n",
      "|2010|          r|   6709|\n",
      "|2010|       bash|   4474|\n",
      "|2011| javascript| 801545|\n",
      "|2011|       java| 386984|\n",
      "|2011|        php| 242932|\n",
      "|2011|          c| 236802|\n",
      "|2011|     python| 203180|\n",
      "|2011|       bash|  57235|\n",
      "|2011|objective-c|  51003|\n",
      "|2011|       ruby|  29148|\n",
      "|2011|          r|  14394|\n",
      "|2011|     delphi|   4950|\n",
      "|2012|       java| 659282|\n",
      "|2012| javascript| 537693|\n",
      "|2012|        php| 428025|\n",
      "|2012|     python| 274297|\n",
      "|2012|       ruby|  98356|\n",
      "|2012|objective-c|  73303|\n",
      "|2012|          c|  65995|\n",
      "|2012|      scala|  24412|\n",
      "|2012|    haskell|  23046|\n",
      "|2012|          r|  15042|\n",
      "|2013|       java|1036010|\n",
      "|2013| javascript| 584908|\n",
      "|2013|        php| 470181|\n",
      "|2013|objective-c| 339795|\n",
      "|2013|     python| 160204|\n",
      "|2013|       chef|  62291|\n",
      "|2013|       bash|  55231|\n",
      "|2013|      scala|  39900|\n",
      "|2013|          c|  28116|\n",
      "|2013|       ruby|  25647|\n",
      "|2014| javascript| 503650|\n",
      "|2014|       java| 434130|\n",
      "|2014|     python| 241039|\n",
      "|2014|        php| 231907|\n",
      "|2014|          c|  77573|\n",
      "|2014|          r|  50028|\n",
      "|2014|     delphi|  23309|\n",
      "|2014|      scala|  18570|\n",
      "|2014| powershell|  10961|\n",
      "|2014|       bash|   9486|\n",
      "|2015| javascript| 341120|\n",
      "|2015|     python| 278450|\n",
      "|2015|       java| 269203|\n",
      "|2015|        php| 131857|\n",
      "|2015|          r|  57464|\n",
      "|2015|      scala|  25399|\n",
      "|2015|          c|  13456|\n",
      "|2015|         go|  10789|\n",
      "|2015|     matlab|   4544|\n",
      "|2015|       bash|   3210|\n",
      "|2016| javascript| 233802|\n",
      "|2016|     python| 217690|\n",
      "|2016|       java| 168800|\n",
      "|2016|        php| 101775|\n",
      "|2016|          r|  36292|\n",
      "|2016| powershell|  26729|\n",
      "|2016|          c|  17256|\n",
      "|2016|      scala|  10915|\n",
      "|2016| typescript|   9164|\n",
      "|2016|       ruby|   6912|\n",
      "|2017|       java| 149416|\n",
      "|2017| javascript| 146638|\n",
      "|2017|     python| 127363|\n",
      "|2017|        php|  54283|\n",
      "|2017|          r|  23379|\n",
      "|2017| typescript|   7163|\n",
      "|2017|          c|   6056|\n",
      "|2017|     delphi|   5277|\n",
      "|2017|       rust|   4200|\n",
      "|2017| powershell|   4154|\n",
      "|2018|     python|  98511|\n",
      "|2018| javascript|  64133|\n",
      "|2018|       java|  40220|\n",
      "|2018|        php|  32954|\n",
      "|2018|          r|  10694|\n",
      "|2018| powershell|   6783|\n",
      "|2018|      scala|   4305|\n",
      "|2018|       dart|   4050|\n",
      "|2018|         go|   3145|\n",
      "|2018|       rust|   2906|\n",
      "|2019|     python|  18813|\n",
      "|2019| javascript|  13434|\n",
      "|2019|       java|   5870|\n",
      "|2019|        php|   3556|\n",
      "|2019|       dart|   1545|\n",
      "|2019|          r|   1363|\n",
      "|2019|          c|   1034|\n",
      "|2019|      latex|    494|\n",
      "|2019|         go|    485|\n",
      "|2019| powershell|    466|\n",
      "+----+-----------+-------+\n",
      "\n"
     ]
    }
   ],
   "source": [
    "posts_crop = posts_sample.select(\"_CreationDate\", \"_Tags\", \"_ViewCount\")\\\n",
    ".where(\"_CreationDate is not null and _Tags is not null\")\n",
    "\n",
    "posts_crop = posts_crop.withColumn(\"_CreationDate\", \n",
    "                                   get_year_udf(posts_crop._CreationDate))\n",
    "posts_crop = posts_crop.withColumn(\"_Tags\", \n",
    "                                   get_lang_udf(posts_crop._Tags))\n",
    "\n",
    "posts_crop = posts_crop.select(\"*\")\\\n",
    ".where(\"_Tags != 'invalid' and _CreationDate != 'invalid'\")\\\n",
    ".groupBy(\"_CreationDate\", \"_Tags\")\\\n",
    ".sum(\"_ViewCount\")\\\n",
    "\n",
    "window = Window.partitionBy(posts_crop[\"_CreationDate\"])\\\n",
    ".orderBy(posts_crop[\"sum(_ViewCount)\"].desc())\n",
    "\n",
    "posts_crop = posts_crop.select('*', row_number().over(window).alias('row_number'))\\\n",
    ".filter(col('row_number') <= 10)\\\n",
    ".drop(\"row_number\")\n",
    "\n",
    "posts_crop = posts_crop.orderBy(\"_CreationDate\",\n",
    "                                col(\"sum(_ViewCount)\").desc())\n",
    "\n",
    "posts_crop = posts_crop.withColumnRenamed(\"_CreationDate\", \"year\")\n",
    "posts_crop = posts_crop.withColumnRenamed(\"_Tags\", \"language\")\n",
    "posts_crop = posts_crop.withColumnRenamed(\"sum(_ViewCount)\", \"views\")\n",
    "\n",
    "posts_crop.show(100)"
   ]
  },
  {
   "cell_type": "code",
   "execution_count": 85,
   "id": "025d62ca-15b3-4000-ad74-3f3d3c996ed6",
   "metadata": {},
   "outputs": [],
   "source": [
    "posts_crop.write.mode('overwrite').parquet(\"top_10_languages_per_year_between_2010_and_2020.parquet\")"
   ]
  },
  {
   "cell_type": "code",
   "execution_count": 86,
   "id": "33ea9d50-385c-458f-a370-ffba578d3527",
   "metadata": {},
   "outputs": [],
   "source": [
    "sc.stop()"
   ]
  },
  {
   "cell_type": "code",
   "execution_count": null,
   "id": "cdf479ee-e00f-48aa-8647-68f0a494d697",
   "metadata": {},
   "outputs": [],
   "source": []
  }
 ],
 "metadata": {
  "kernelspec": {
   "display_name": "Python 3",
   "language": "python",
   "name": "python3"
  },
  "language_info": {
   "codemirror_mode": {
    "name": "ipython",
    "version": 3
   },
   "file_extension": ".py",
   "mimetype": "text/x-python",
   "name": "python",
   "nbconvert_exporter": "python",
   "pygments_lexer": "ipython3",
   "version": "3.9.5"
  }
 },
 "nbformat": 4,
 "nbformat_minor": 5
}
