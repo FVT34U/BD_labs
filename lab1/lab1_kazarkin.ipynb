{
 "cells": [
  {
   "cell_type": "code",
   "execution_count": 1,
   "id": "34dc3bee-2cbc-4d41-b585-f1bfbc12bd20",
   "metadata": {},
   "outputs": [],
   "source": [
    "from pyspark import SparkContext, SparkConf \n",
    "from pyspark.sql import SparkSession\n",
    "import pyspark.sql as sql\n",
    "from pyspark.sql.functions import col"
   ]
  },
  {
   "cell_type": "code",
   "execution_count": 2,
   "id": "c05f144d-af32-4a5e-8cda-71f1ee103750",
   "metadata": {},
   "outputs": [],
   "source": [
    "conf = SparkConf().setAppName(\"Bikes_analysis\").setMaster('yarn')"
   ]
  },
  {
   "cell_type": "code",
   "execution_count": 3,
   "id": "42584478-faa6-4d42-8b71-e004f413157a",
   "metadata": {},
   "outputs": [],
   "source": [
    "sc = SparkContext(conf=conf)\n",
    "spark = SparkSession(sc)"
   ]
  },
  {
   "cell_type": "code",
   "execution_count": 4,
   "id": "17b61d00-c7f1-435e-80c6-45665aeacf18",
   "metadata": {},
   "outputs": [],
   "source": [
    "tripData = spark.read\\\n",
    ".option(\"header\", True)\\\n",
    ".option(\"inferSchema\", True)\\\n",
    ".option(\"timestampFormat\", 'M/d/y H:m')\\\n",
    ".csv(\"trips.csv\")"
   ]
  },
  {
   "cell_type": "code",
   "execution_count": 5,
   "id": "486d79da-747c-412e-808d-0bb2bdd38cc4",
   "metadata": {},
   "outputs": [],
   "source": [
    "stationData = spark.read\\\n",
    ".option(\"header\", True)\\\n",
    ".option(\"inferSchema\", True)\\\n",
    ".option(\"timestampFormat\", 'M/d/y')\\\n",
    ".csv(\"stations.csv\")"
   ]
  },
  {
   "cell_type": "code",
   "execution_count": 6,
   "id": "ed2c4438-de37-41b5-8c36-878d63b8caba",
   "metadata": {},
   "outputs": [
    {
     "name": "stdout",
     "output_type": "stream",
     "text": [
      "root\n",
      " |-- id: integer (nullable = true)\n",
      " |-- duration: integer (nullable = true)\n",
      " |-- start_date: timestamp (nullable = true)\n",
      " |-- start_station_name: string (nullable = true)\n",
      " |-- start_station_id: integer (nullable = true)\n",
      " |-- end_date: timestamp (nullable = true)\n",
      " |-- end_station_name: string (nullable = true)\n",
      " |-- end_station_id: integer (nullable = true)\n",
      " |-- bike_id: integer (nullable = true)\n",
      " |-- subscription_type: string (nullable = true)\n",
      " |-- zip_code: string (nullable = true)\n",
      "\n",
      "root\n",
      " |-- id: integer (nullable = true)\n",
      " |-- name: string (nullable = true)\n",
      " |-- lat: double (nullable = true)\n",
      " |-- long: double (nullable = true)\n",
      " |-- dock_count: integer (nullable = true)\n",
      " |-- city: string (nullable = true)\n",
      " |-- installation_date: timestamp (nullable = true)\n",
      "\n"
     ]
    }
   ],
   "source": [
    "tripData.printSchema()\n",
    "stationData.printSchema()"
   ]
  },
  {
   "cell_type": "markdown",
   "id": "41447fd7-d1c2-4526-b78b-8dbbff89b6ee",
   "metadata": {},
   "source": [
    "Задание 1 - Найти велосипед с максимальным временем пробега"
   ]
  },
  {
   "cell_type": "code",
   "execution_count": 75,
   "id": "632006cb-0fa1-4ce7-a767-eb775c9dad19",
   "metadata": {},
   "outputs": [
    {
     "name": "stdout",
     "output_type": "stream",
     "text": [
      "+-------+-------------+\n",
      "|bike_id|sum(duration)|\n",
      "+-------+-------------+\n",
      "|    876|         3304|\n",
      "+-------+-------------+\n",
      "\n"
     ]
    }
   ],
   "source": [
    "res = tripData.select(col(\"bike_id\"), col(\"duration\"))\\\n",
    ".groupBy(col(\"bike_id\"))\\\n",
    ".sum(\"duration\")\\\n",
    ".sort(\"sum(duration)\", ascending=True)\\\n",
    ".limit(1)\\\n",
    ".show()"
   ]
  },
  {
   "cell_type": "markdown",
   "id": "d151fe24-3a50-439a-a6b6-020197d716ff",
   "metadata": {},
   "source": [
    "Задание 2 - Найти наибольшее геодезическое расстояние между станциями"
   ]
  },
  {
   "cell_type": "code",
   "execution_count": 61,
   "id": "d68030fd-715f-4c4d-b0c5-017823fd189e",
   "metadata": {},
   "outputs": [],
   "source": [
    "from math import radians, cos, sin, asin, sqrt\n",
    "\n",
    "def calculate_distance(lat1, lon1, lat2, lon2):\n",
    "    lon1, lat1, lon2, lat2 = map(radians, [lon1, lat1, lon2, lat2])\n",
    "\n",
    "    dlon = lon2 - lon1\n",
    "    dlat = lat2 - lat1\n",
    "    a = sin(dlat/2)**2 + cos(lat1) * cos(lat2) * sin(dlon/2)**2\n",
    "    c = 2 * asin(sqrt(a))\n",
    "    r = 6371 \n",
    "    return c * r"
   ]
  },
  {
   "cell_type": "code",
   "execution_count": 62,
   "id": "269b54fb-1192-4c2c-b5e1-f84dd5d49f99",
   "metadata": {},
   "outputs": [
    {
     "name": "stdout",
     "output_type": "stream",
     "text": [
      "root\n",
      " |-- id: integer (nullable = true)\n",
      " |-- name: string (nullable = true)\n",
      " |-- lat: double (nullable = true)\n",
      " |-- long: double (nullable = true)\n",
      " |-- dock_count: integer (nullable = true)\n",
      " |-- city: string (nullable = true)\n",
      " |-- installation_date: timestamp (nullable = true)\n",
      " |-- id: integer (nullable = true)\n",
      " |-- name: string (nullable = true)\n",
      " |-- lat: double (nullable = true)\n",
      " |-- long: double (nullable = true)\n",
      " |-- dock_count: integer (nullable = true)\n",
      " |-- city: string (nullable = true)\n",
      " |-- installation_date: timestamp (nullable = true)\n",
      "\n"
     ]
    }
   ],
   "source": [
    "joined_stations = stationData.crossJoin(stationData)\n",
    "joined_stations.printSchema()"
   ]
  },
  {
   "cell_type": "code",
   "execution_count": 64,
   "id": "54e811c8-2622-40bf-a2e0-b232092f2671",
   "metadata": {},
   "outputs": [
    {
     "data": {
      "text/plain": [
       "69.92087595428183"
      ]
     },
     "execution_count": 64,
     "metadata": {},
     "output_type": "execute_result"
    }
   ],
   "source": [
    "res2 = joined_stations\\\n",
    ".rdd\\\n",
    ".map(lambda x: calculate_distance(x[2], x[3], x[9], x[10]))\\\n",
    ".max()\n",
    "\n",
    "res2"
   ]
  },
  {
   "cell_type": "markdown",
   "id": "07f8f411-4b6c-49a9-805c-870d6301677b",
   "metadata": {},
   "source": [
    "Задание 3 - Найти путь велосипеда с максимальным временем пробега через станции"
   ]
  },
  {
   "cell_type": "code",
   "execution_count": 79,
   "id": "c396c0f8-c4e6-41b6-a4ff-951b40d9cc6c",
   "metadata": {},
   "outputs": [
    {
     "name": "stdout",
     "output_type": "stream",
     "text": [
      "2.312047985749405\n"
     ]
    }
   ],
   "source": [
    "temp = tripData.orderBy(col(\"duration\").desc())\\\n",
    ".limit(1)\\\n",
    ".collect()\n",
    "\n",
    "res3 = joined_stations\\\n",
    ".rdd\\\n",
    ".filter(lambda station_name: (station_name[1] == temp[0].start_station_name) \n",
    "        and (station_name[8] == temp[0].end_station_name))\\\n",
    ".map(lambda station: calculate_distance(station[2], station[3], station[9], station[10]))\n",
    "\n",
    "print(res3.collect()[0])"
   ]
  },
  {
   "cell_type": "markdown",
   "id": "82d4f716-c168-4778-bd1d-88149433b128",
   "metadata": {},
   "source": [
    "Задание 4 - Найти количество велосипедов в системе"
   ]
  },
  {
   "cell_type": "code",
   "execution_count": 68,
   "id": "d13a802d-5acd-43a6-9237-54db5b372861",
   "metadata": {},
   "outputs": [
    {
     "data": {
      "text/plain": [
       "700"
      ]
     },
     "execution_count": 68,
     "metadata": {},
     "output_type": "execute_result"
    }
   ],
   "source": [
    "res4 = tripData.select(col(\"bike_id\")).distinct().count()\n",
    "\n",
    "res4"
   ]
  },
  {
   "cell_type": "markdown",
   "id": "e71730ba-014d-4500-9b9a-3883329d78c9",
   "metadata": {},
   "source": [
    "Задание 5 - Найти пользователей потративших на поездки более 3 часов."
   ]
  },
  {
   "cell_type": "code",
   "execution_count": 77,
   "id": "f49995d1-472f-4088-b82b-69730d02974d",
   "metadata": {},
   "outputs": [
    {
     "name": "stdout",
     "output_type": "stream",
     "text": [
      "+----+-------+--------+\n",
      "|  id|bike_id|duration|\n",
      "+----+-------+--------+\n",
      "|4639|    433|   11118|\n",
      "|4637|    377|   11272|\n",
      "|4528|    645|   12280|\n",
      "|4363|    434|   15244|\n",
      "|4193|    501|   18192|\n",
      "|4190|    614|   18240|\n",
      "|4225|    464|   21612|\n",
      "|4663|    150|   52698|\n",
      "|4532|    460|   84990|\n",
      "|4521|    390|   85385|\n",
      "|5069|    269|   86102|\n",
      "|4505|    141|   97713|\n",
      "|5539|    484|   10805|\n",
      "|6032|    458|   10963|\n",
      "|6409|    638|   12408|\n",
      "|6408|    640|   12459|\n",
      "|5697|    627|   12562|\n",
      "|5683|    552|   12875|\n",
      "|5218|    608|   13809|\n",
      "|5716|    439|   14545|\n",
      "+----+-------+--------+\n",
      "only showing top 20 rows\n",
      "\n"
     ]
    }
   ],
   "source": [
    "res5 = tripData.select(col(\"id\"), col(\"bike_id\"), col(\"duration\"))\\\n",
    ".where(\"duration > 10800\")\\\n",
    ".show()"
   ]
  },
  {
   "cell_type": "code",
   "execution_count": null,
   "id": "d4657974-675b-4f3c-8d48-d6d75afeec05",
   "metadata": {},
   "outputs": [],
   "source": []
  }
 ],
 "metadata": {
  "kernelspec": {
   "display_name": "Python 3",
   "language": "python",
   "name": "python3"
  },
  "language_info": {
   "codemirror_mode": {
    "name": "ipython",
    "version": 3
   },
   "file_extension": ".py",
   "mimetype": "text/x-python",
   "name": "python",
   "nbconvert_exporter": "python",
   "pygments_lexer": "ipython3",
   "version": "3.9.5"
  }
 },
 "nbformat": 4,
 "nbformat_minor": 5
}
